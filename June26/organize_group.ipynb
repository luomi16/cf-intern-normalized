{
 "cells": [
  {
   "cell_type": "markdown",
   "id": "2f21d40f",
   "metadata": {},
   "source": [
    "加载 auth_user.xlsx（包含用户基本信息）。\n",
    "加载 cfund_fundprofile.xlsx（包含用户的投资资料）。\n",
    "加载 User_group2.xlsx，用于获取目标用户的邮箱列表。\n",
    "按照 email 字段，将两张表进行外连接（outer join），确保保留所有匹配记录。\n",
    "将合并后的结果保存为新的 Excel 文件 merged_emails_output.xlsx。"
   ]
  },
  {
   "cell_type": "code",
   "execution_count": 2,
   "id": "ff59e2b1",
   "metadata": {},
   "outputs": [],
   "source": [
    "import pandas as pd\n",
    "\n",
    "# 加载 Excel 文件\n",
    "auth_user_df = pd.read_excel(\"auth_user.xlsx\")\n",
    "cfund_fundprofile_df = pd.read_excel(\"cfund_fundprofile.xlsx\")\n",
    "user_group_df = pd.read_excel(\"User_group2.xlsx\")\n",
    "\n",
    "# 从 User_group2 中提取 email 列表（去除空值并去重）\n",
    "email_list = user_group_df['email'].dropna().unique().tolist()\n",
    "\n",
    "# 筛选匹配 email 的记录\n",
    "auth_user_filtered = auth_user_df[auth_user_df['email'].isin(email_list)][[\n",
    "    'email', 'first_name', 'last_name', 'display_name', 'date_joined'\n",
    "]]\n",
    "\n",
    "cfund_filtered = cfund_fundprofile_df[cfund_fundprofile_df['email'].isin(email_list)][[\n",
    "    'email', 'created', 'dob', 'name', 'executive_name', 'phone',\n",
    "    'street_address_1', 'street_address_2', 'region', 'city', 'country', 'postal_code', \n",
    "    'tax_id_number'\n",
    "]]\n",
    "\n",
    "# 合并两个表\n",
    "merged = pd.merge(auth_user_filtered, cfund_filtered, on='email', how='outer')\n",
    "\n",
    "# 保存结果（可选）\n",
    "merged.to_excel(\"merged_emails_output.xlsx\", index=False)\n"
   ]
  }
 ],
 "metadata": {
  "kernelspec": {
   "display_name": "stat",
   "language": "python",
   "name": "python3"
  },
  "language_info": {
   "codemirror_mode": {
    "name": "ipython",
    "version": 3
   },
   "file_extension": ".py",
   "mimetype": "text/x-python",
   "name": "python",
   "nbconvert_exporter": "python",
   "pygments_lexer": "ipython3",
   "version": "3.9.20"
  }
 },
 "nbformat": 4,
 "nbformat_minor": 5
}
