{
 "cells": [
  {
   "cell_type": "markdown",
   "id": "4971c2eb",
   "metadata": {},
   "source": [
    "按照manual_id_sub 和 manual_id_bank 把两个表一一对应 in map.xlsx\n",
    "在subscription（bank_account_id）中加上bankaccount的fk (manual_id_bank)"
   ]
  },
  {
   "cell_type": "code",
   "execution_count": 2,
   "id": "230b1062",
   "metadata": {},
   "outputs": [
    {
     "name": "stdout",
     "output_type": "stream",
     "text": [
      "✅ Updated_Subscription.xlsx has been saved with 'manual_id_bank' foreign key.\n"
     ]
    }
   ],
   "source": [
    "import pandas as pd\n",
    "\n",
    "# Step 1: Load mapping file and subscription file\n",
    "map_df = pd.read_excel(\"map.xlsx\")\n",
    "subscription_df = pd.read_excel(\"Subscription.xlsx\")\n",
    "\n",
    "# Step 2: Build mapping dictionary from manual_id_sub → manual_id_bank\n",
    "mapping_dict = map_df.set_index(\"manual_id_sub\")[\"manual_id_bank\"].to_dict()\n",
    "\n",
    "# Step 3: Apply mapping to subscription_df using manual_id as manual_id_sub\n",
    "subscription_df[\"manual_id_bank\"] = subscription_df[\"manual_id\"].map(mapping_dict)\n",
    "\n",
    "# Step 4: Save updated DataFrame to Excel\n",
    "subscription_df.to_excel(\"Updated_Subscription.xlsx\", index=False)\n",
    "print(\"✅ Updated_Subscription.xlsx has been saved with 'manual_id_bank' foreign key.\")\n"
   ]
  },
  {
   "cell_type": "markdown",
   "id": "d04cdfed",
   "metadata": {},
   "source": [
    "按照对应关系，把subscription （bank #）中的account number copy到bankaccount（manual_id， bank_account_account_number）中去"
   ]
  },
  {
   "cell_type": "code",
   "execution_count": 4,
   "id": "1b40b979",
   "metadata": {},
   "outputs": [
    {
     "name": "stdout",
     "output_type": "stream",
     "text": [
      "✅ Updated_BankAccount.xlsx saved.\n"
     ]
    }
   ],
   "source": [
    "import pandas as pd\n",
    "\n",
    "# Step 1: 读取文件\n",
    "subscription_df = pd.read_excel(\"Subscription.xlsx\")\n",
    "map_df = pd.read_excel(\"map.xlsx\")\n",
    "bankaccount_df = pd.read_excel(\"BankAccount.xlsx\")\n",
    "\n",
    "# Step 2: 创建 manual_id_sub → manual_id_bank 映射\n",
    "id_map = map_df.set_index(\"manual_id_sub\")[\"manual_id_bank\"].to_dict()\n",
    "\n",
    "# Step 3: 在 subscription 中添加 manual_id_bank 列\n",
    "subscription_df[\"manual_id_bank\"] = subscription_df[\"id_jinsong_v1\"].map(id_map)\n",
    "\n",
    "# Step 4: 创建 manual_id_bank → bank # 映射\n",
    "bank_number_map = subscription_df.set_index(\"manual_id_bank\")[\"bank #\"].dropna().astype(str).to_dict()\n",
    "\n",
    "# Step 5: 把 bank # 写入 bankaccount 表中的 bank_account_account_number\n",
    "bankaccount_df[\"bank_account_account_number\"] = bankaccount_df[\"manual_id\"].map(bank_number_map)\n",
    "\n",
    "# Step 6: 保存结果\n",
    "bankaccount_df.to_excel(\"Updated_BankAccount.xlsx\", index=False)\n",
    "print(\"✅ Updated_BankAccount.xlsx saved.\")\n"
   ]
  }
 ],
 "metadata": {
  "kernelspec": {
   "display_name": "stat",
   "language": "python",
   "name": "python3"
  },
  "language_info": {
   "codemirror_mode": {
    "name": "ipython",
    "version": 3
   },
   "file_extension": ".py",
   "mimetype": "text/x-python",
   "name": "python",
   "nbconvert_exporter": "python",
   "pygments_lexer": "ipython3",
   "version": "3.9.20"
  }
 },
 "nbformat": 4,
 "nbformat_minor": 5
}
