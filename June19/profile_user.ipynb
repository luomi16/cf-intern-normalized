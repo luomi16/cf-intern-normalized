{
 "cells": [
  {
   "cell_type": "markdown",
   "id": "ed0d4209",
   "metadata": {},
   "source": [
    "profile_id\tinvestor_profile_id\n",
    "1, 2, 3, 4\tAfen Xu\n",
    "9, 10\tAnn Jiang\n",
    "11\tAustin Ding Tian"
   ]
  },
  {
   "cell_type": "code",
   "execution_count": 17,
   "id": "310e5a5b",
   "metadata": {},
   "outputs": [
    {
     "name": "stdout",
     "output_type": "stream",
     "text": [
      "✅ 已成功生成 All_Users_with_ProfileIDs.xlsx（无小数点）\n"
     ]
    }
   ],
   "source": [
    "import pandas as pd\n",
    "\n",
    "# === Step 1: 读取两个源文件 ===\n",
    "profile_df = pd.read_excel('IndividualInvestorProfile.xlsx')  # 包含 profile_id 和 user\n",
    "user_df = pd.read_excel('User.xlsx')  # 包含 full_name 和 user_id\n",
    "\n",
    "# === Step 2: 按 user 分组聚合 profile_id（先转成整数字符串后拼接） ===\n",
    "profile_df['profile_id'] = pd.to_numeric(profile_df['profile_id'], errors='coerce').astype('Int64')\n",
    "\n",
    "grouped = profile_df.dropna(subset=['profile_id']).groupby('user')['profile_id'].apply(\n",
    "    lambda x: ', '.join(map(str, x.astype(int)))\n",
    ").reset_index()\n",
    "\n",
    "# === Step 3: 重命名 user → full_name user_df 匹配） ===\n",
    "grouped.rename(columns={'user': 'full_name'}, inplace=True)\n",
    "\n",
    "# === Step 4: 合并到 user_df（以 user_df 为主） ===\n",
    "merged_df = pd.merge(user_df[['user_id', 'full_name']], grouped, on='full_name', how='left')\n",
    "\n",
    "# === Step 5: 调整列顺序 ===\n",
    "result_df = merged_df[['user_id', 'full_name', 'profile_id']]\n",
    "\n",
    "# === Step 6: 导出为 Excel 文件 ===\n",
    "result_df.to_excel('All_Users_with_ProfileIDs.xlsx', index=False)\n",
    "\n",
    "print(\"✅ 已成功生成 All_Users_with_ProfileIDs.xlsx（无小数点）\")\n"
   ]
  },
  {
   "cell_type": "code",
   "execution_count": 19,
   "id": "f8132f7e",
   "metadata": {},
   "outputs": [
    {
     "name": "stdout",
     "output_type": "stream",
     "text": [
      "✅ 已成功将 user_id 合并到 individualInvestorProfile.xlsx，并保存为 individualInvestorProfile_with_user_id.xlsx\n"
     ]
    }
   ],
   "source": [
    "import pandas as pd\n",
    "\n",
    "# === Step 1: 读取映射文件 ===\n",
    "mapping_df = pd.read_excel('All_Users_with_ProfileIDs.xlsx')  # 含 profile_id, investor_profile_id, user_id\n",
    "\n",
    "# 去除 profile_id 为 NaN 的行，分割成列表\n",
    "mapping_df = mapping_df.dropna(subset=['profile_id'])\n",
    "mapping_df['profile_id'] = mapping_df['profile_id'].astype(str).str.split(',')\n",
    "\n",
    "# 展开成一行一个 profile_id，去空格，转 int\n",
    "exploded_map = mapping_df.explode('profile_id')\n",
    "exploded_map['profile_id'] = exploded_map['profile_id'].str.strip()\n",
    "\n",
    "# 将 profile_id 转为整数（忽略非法值）\n",
    "exploded_map['profile_id'] = pd.to_numeric(exploded_map['profile_id'], errors='coerce').astype('Int64')\n",
    "\n",
    "# 将 user_id 转为整数（忽略非法值）\n",
    "exploded_map['user_id'] = pd.to_numeric(exploded_map['user_id'], errors='coerce').astype('Int64')\n",
    "\n",
    "# 得到反向映射：profile_id → user_id\n",
    "reverse_mapping = exploded_map[['profile_id', 'user_id']].dropna(subset=['profile_id'])\n",
    "\n",
    "# === Step 2: 读取 individualInvestorProfile 表（包含 primary_key） ===\n",
    "profile_df = pd.read_excel('individualInvestorProfile.xlsx')\n",
    "\n",
    "# 确保 primary_key 是整数\n",
    "profile_df['profile_id'] = pd.to_numeric(profile_df['profile_id'], errors='coerce').astype('Int64')\n",
    "\n",
    "# === Step 3: 合并 user_id 到 profile_df ===\n",
    "merged_df = profile_df.merge(reverse_mapping, left_on='profile_id', right_on='profile_id', how='left')\n",
    "\n",
    "# === Step 4: 导出结果 ===\n",
    "merged_df['user_id'] = merged_df['user_id'].astype('Int64')  # 保证输出为整数，不是浮点\n",
    "merged_df.to_excel('individualInvestorProfile_with_user_id.xlsx', index=False)\n",
    "\n",
    "print(\"✅ 已成功将 user_id 合并到 individualInvestorProfile.xlsx，并保存为 individualInvestorProfile_with_user_id.xlsx\")\n"
   ]
  },
  {
   "cell_type": "markdown",
   "id": "33c983df",
   "metadata": {},
   "source": [
    "通过All_Users_with_ProfileIDs得到profile_id和user_id的关系，在individualInvestorProfile加上user_id"
   ]
  },
  {
   "cell_type": "code",
   "execution_count": 6,
   "id": "34786537",
   "metadata": {},
   "outputs": [
    {
     "name": "stdout",
     "output_type": "stream",
     "text": [
      "✅ 已成功将 user_id 添加到 individualInvestorProfile.xlsx，并保存为 individualInvestorProfile_with_user_id.xlsx\n"
     ]
    }
   ],
   "source": [
    "import pandas as pd\n",
    "\n",
    "# === Step 1: 读取映射文件 ===\n",
    "mapping_df = pd.read_excel('All_Users_with_ProfileIDs.xlsx')  # 含 profile_id, investor_profile_id, user_id\n",
    "\n",
    "# 去除 profile_id 为 NaN 的行，分割成列表\n",
    "mapping_df = mapping_df.dropna(subset=['profile_id'])\n",
    "mapping_df['profile_id'] = mapping_df['profile_id'].astype(str).str.split(',')\n",
    "\n",
    "# 展开成一行一个 profile_id，去空格，转 int\n",
    "exploded_map = mapping_df.explode('profile_id')\n",
    "exploded_map['profile_id'] = exploded_map['profile_id'].str.strip().astype(int)\n",
    "\n",
    "# 得到反向映射：profile_id → user_id\n",
    "reverse_mapping = exploded_map[['profile_id', 'user_id']]\n",
    "\n",
    "# === Step 2: 读取原始 individualInvestorProfile 表 ===\n",
    "profile_df = pd.read_excel('individualInvestorProfile.xlsx')  # 必须包含 profile_id 列\n",
    "\n",
    "# === Step 3: 合并 user_id 到 profile_df ===\n",
    "merged_df = profile_df.merge(reverse_mapping, on='profile_id', how='left')\n",
    "\n",
    "# === Step 4: 保存结果 ===\n",
    "merged_df.to_excel('individualInvestorProfile_with_user_id.xlsx', index=False)\n",
    "\n",
    "print(\"✅ 已成功将 user_id 添加到 individualInvestorProfile.xlsx，并保存为 individualInvestorProfile_with_user_id.xlsx\")\n"
   ]
  },
  {
   "cell_type": "markdown",
   "id": "507a7f18",
   "metadata": {},
   "source": [
    "address 在bankaccount表中已经normalize了，替代掉user中的地址\n",
    "问题：怎么对应上\n",
    "办法：source and investor_name_raw in bankaccount join fund_id and investor_name_raw in individualInvestorProfile"
   ]
  },
  {
   "cell_type": "code",
   "execution_count": 21,
   "id": "b27e9428",
   "metadata": {},
   "outputs": [
    {
     "name": "stdout",
     "output_type": "stream",
     "text": [
      "✅ BankAccount 地址已成功合并进 User 表并保存为 User_with_BankAccount_Address.xlsx\n"
     ]
    }
   ],
   "source": [
    "import pandas as pd\n",
    "\n",
    "# === Step 1: 读取数据 ===\n",
    "user_df = pd.read_excel('User.xlsx')  # 包含 original_investor_profile_id\n",
    "bank_df = pd.read_excel('BankAccount.xlsx')  # 包含 investor_name_raw 和地址字段\n",
    "\n",
    "# === Step 2: 确保字段格式一致（统一为字符串去空格）===\n",
    "user_df['original_investor_profile_id'] = user_df['original_investor_profile_id'].astype(str).str.strip()\n",
    "bank_df['investor_name_raw'] = bank_df['investor_name_raw'].astype(str).str.strip()\n",
    "\n",
    "# === Step 3: 合并 bankaccount 地址到 User ===\n",
    "user_with_address = user_df.merge(\n",
    "    bank_df[\n",
    "        ['investor_name_raw',\n",
    "         'bank_account_address_line_1',\n",
    "         'bank_account_address_line_2',\n",
    "         'bank_account_city',\n",
    "         'bank_account_state',\n",
    "         'bank_account_country',\n",
    "         'bank_account_zipcode']\n",
    "    ],\n",
    "    left_on='original_investor_profile_id',\n",
    "    right_on='investor_name_raw',\n",
    "    how='left'\n",
    ")\n",
    "\n",
    "# （可选）删除多余的匹配列\n",
    "user_with_address.drop(columns=['investor_name_raw'], inplace=True)\n",
    "\n",
    "# === Step 4: 保存结果 ===\n",
    "user_with_address.to_excel('User_with_BankAccount_Address.xlsx', index=False)\n",
    "\n",
    "print(\"✅ BankAccount 地址已成功合并进 User 表并保存为 User_with_BankAccount_Address.xlsx\")\n"
   ]
  },
  {
   "cell_type": "code",
   "execution_count": 22,
   "id": "cc4930bd",
   "metadata": {},
   "outputs": [
    {
     "name": "stdout",
     "output_type": "stream",
     "text": [
      "✅ 地址字段已成功合并并写入 User_with_BankAccount_Address.xlsx\n"
     ]
    }
   ],
   "source": [
    "import pandas as pd\n",
    "\n",
    "# === Step 1: 读取数据 ===\n",
    "user_df = pd.read_excel('User.xlsx')  # 包含 original_investor_profile_id\n",
    "bank_df = pd.read_excel('BankAccount.xlsx')  # 包含 investor_name_raw 和地址字段\n",
    "\n",
    "# === Step 2: 清洗字段，去空格、统一为小写以便匹配 ===\n",
    "user_df['original_investor_profile_id'] = user_df['original_investor_profile_id'].astype(str).str.strip().str.lower()\n",
    "bank_df['investor_name_raw'] = bank_df['investor_name_raw'].astype(str).str.strip().str.lower()\n",
    "\n",
    "# === Step 3: 去除 bank_df 中重复的 investor_name_raw，只保留第一条地址 ===\n",
    "bank_clean = bank_df.groupby('investor_name_raw').first().reset_index()\n",
    "\n",
    "# === Step 4: 合并地址字段到 User 表 ===\n",
    "address_fields = [\n",
    "    'bank_account_address_line_1',\n",
    "    'bank_account_address_line_2',\n",
    "    'bank_account_city',\n",
    "    'bank_account_state',\n",
    "    'bank_account_country',\n",
    "    'bank_account_zipcode'\n",
    "]\n",
    "\n",
    "user_with_address = user_df.merge(\n",
    "    bank_clean[['investor_name_raw'] + address_fields],\n",
    "    left_on='original_investor_profile_id',\n",
    "    right_on='investor_name_raw',\n",
    "    how='left'\n",
    ")\n",
    "\n",
    "# （可选）删除多余匹配列\n",
    "user_with_address.drop(columns=['investor_name_raw'], inplace=True)\n",
    "\n",
    "# === Step 5: 保存结果 ===\n",
    "user_with_address.to_excel('User_with_BankAccount_Address.xlsx', index=False)\n",
    "\n",
    "print(\"✅ 地址字段已成功合并并写入 User_with_BankAccount_Address.xlsx\")\n"
   ]
  }
 ],
 "metadata": {
  "kernelspec": {
   "display_name": "stat",
   "language": "python",
   "name": "python3"
  },
  "language_info": {
   "codemirror_mode": {
    "name": "ipython",
    "version": 3
   },
   "file_extension": ".py",
   "mimetype": "text/x-python",
   "name": "python",
   "nbconvert_exporter": "python",
   "pygments_lexer": "ipython3",
   "version": "3.9.20"
  }
 },
 "nbformat": 4,
 "nbformat_minor": 5
}
